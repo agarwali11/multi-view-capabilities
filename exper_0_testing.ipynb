{
  "nbformat": 4,
  "nbformat_minor": 0,
  "metadata": {
    "colab": {
      "provenance": [],
      "gpuType": "T4",
      "authorship_tag": "ABX9TyPktYevIZG/ezEYQEqrj18z",
      "include_colab_link": true
    },
    "kernelspec": {
      "name": "python3",
      "display_name": "Python 3"
    },
    "language_info": {
      "name": "python"
    },
    "accelerator": "GPU",
    "widgets": {
      "application/vnd.jupyter.widget-state+json": {
        "d9bcfba7d04f42f9bca6b9a5fc6769c3": {
          "model_module": "@jupyter-widgets/controls",
          "model_name": "HBoxModel",
          "model_module_version": "1.5.0",
          "state": {
            "_dom_classes": [],
            "_model_module": "@jupyter-widgets/controls",
            "_model_module_version": "1.5.0",
            "_model_name": "HBoxModel",
            "_view_count": null,
            "_view_module": "@jupyter-widgets/controls",
            "_view_module_version": "1.5.0",
            "_view_name": "HBoxView",
            "box_style": "",
            "children": [
              "IPY_MODEL_7a7995d3de9d41cea6db5da8de6bf6ca",
              "IPY_MODEL_bdc780f37b734e3bbadd0c01467407ce",
              "IPY_MODEL_a20cc05b742a447aab9390ae30dc2bf0"
            ],
            "layout": "IPY_MODEL_ed96f4199d5446d38d57a4aac935cc6b"
          }
        },
        "7a7995d3de9d41cea6db5da8de6bf6ca": {
          "model_module": "@jupyter-widgets/controls",
          "model_name": "HTMLModel",
          "model_module_version": "1.5.0",
          "state": {
            "_dom_classes": [],
            "_model_module": "@jupyter-widgets/controls",
            "_model_module_version": "1.5.0",
            "_model_name": "HTMLModel",
            "_view_count": null,
            "_view_module": "@jupyter-widgets/controls",
            "_view_module_version": "1.5.0",
            "_view_name": "HTMLView",
            "description": "",
            "description_tooltip": null,
            "layout": "IPY_MODEL_c925cf812fd3430c8b55e370933a7c36",
            "placeholder": "​",
            "style": "IPY_MODEL_2244a30bd5f14c34b8c14fb506d390c9",
            "value": "model.safetensors: 100%"
          }
        },
        "bdc780f37b734e3bbadd0c01467407ce": {
          "model_module": "@jupyter-widgets/controls",
          "model_name": "FloatProgressModel",
          "model_module_version": "1.5.0",
          "state": {
            "_dom_classes": [],
            "_model_module": "@jupyter-widgets/controls",
            "_model_module_version": "1.5.0",
            "_model_name": "FloatProgressModel",
            "_view_count": null,
            "_view_module": "@jupyter-widgets/controls",
            "_view_module_version": "1.5.0",
            "_view_name": "ProgressView",
            "bar_style": "success",
            "description": "",
            "description_tooltip": null,
            "layout": "IPY_MODEL_729f5cffafb04d5e9bf641af01e5f02c",
            "max": 10672390984,
            "min": 0,
            "orientation": "horizontal",
            "style": "IPY_MODEL_40c854f63eb741348669dbc67f6afb02",
            "value": 10672390984
          }
        },
        "a20cc05b742a447aab9390ae30dc2bf0": {
          "model_module": "@jupyter-widgets/controls",
          "model_name": "HTMLModel",
          "model_module_version": "1.5.0",
          "state": {
            "_dom_classes": [],
            "_model_module": "@jupyter-widgets/controls",
            "_model_module_version": "1.5.0",
            "_model_name": "HTMLModel",
            "_view_count": null,
            "_view_module": "@jupyter-widgets/controls",
            "_view_module_version": "1.5.0",
            "_view_name": "HTMLView",
            "description": "",
            "description_tooltip": null,
            "layout": "IPY_MODEL_586de165f4154ea78042c7cffe581e0c",
            "placeholder": "​",
            "style": "IPY_MODEL_779702e9d3b742569963910f6ea83960",
            "value": " 10.7G/10.7G [11:38&lt;00:00, 17.3MB/s]"
          }
        },
        "ed96f4199d5446d38d57a4aac935cc6b": {
          "model_module": "@jupyter-widgets/base",
          "model_name": "LayoutModel",
          "model_module_version": "1.2.0",
          "state": {
            "_model_module": "@jupyter-widgets/base",
            "_model_module_version": "1.2.0",
            "_model_name": "LayoutModel",
            "_view_count": null,
            "_view_module": "@jupyter-widgets/base",
            "_view_module_version": "1.2.0",
            "_view_name": "LayoutView",
            "align_content": null,
            "align_items": null,
            "align_self": null,
            "border": null,
            "bottom": null,
            "display": null,
            "flex": null,
            "flex_flow": null,
            "grid_area": null,
            "grid_auto_columns": null,
            "grid_auto_flow": null,
            "grid_auto_rows": null,
            "grid_column": null,
            "grid_gap": null,
            "grid_row": null,
            "grid_template_areas": null,
            "grid_template_columns": null,
            "grid_template_rows": null,
            "height": null,
            "justify_content": null,
            "justify_items": null,
            "left": null,
            "margin": null,
            "max_height": null,
            "max_width": null,
            "min_height": null,
            "min_width": null,
            "object_fit": null,
            "object_position": null,
            "order": null,
            "overflow": null,
            "overflow_x": null,
            "overflow_y": null,
            "padding": null,
            "right": null,
            "top": null,
            "visibility": null,
            "width": null
          }
        },
        "c925cf812fd3430c8b55e370933a7c36": {
          "model_module": "@jupyter-widgets/base",
          "model_name": "LayoutModel",
          "model_module_version": "1.2.0",
          "state": {
            "_model_module": "@jupyter-widgets/base",
            "_model_module_version": "1.2.0",
            "_model_name": "LayoutModel",
            "_view_count": null,
            "_view_module": "@jupyter-widgets/base",
            "_view_module_version": "1.2.0",
            "_view_name": "LayoutView",
            "align_content": null,
            "align_items": null,
            "align_self": null,
            "border": null,
            "bottom": null,
            "display": null,
            "flex": null,
            "flex_flow": null,
            "grid_area": null,
            "grid_auto_columns": null,
            "grid_auto_flow": null,
            "grid_auto_rows": null,
            "grid_column": null,
            "grid_gap": null,
            "grid_row": null,
            "grid_template_areas": null,
            "grid_template_columns": null,
            "grid_template_rows": null,
            "height": null,
            "justify_content": null,
            "justify_items": null,
            "left": null,
            "margin": null,
            "max_height": null,
            "max_width": null,
            "min_height": null,
            "min_width": null,
            "object_fit": null,
            "object_position": null,
            "order": null,
            "overflow": null,
            "overflow_x": null,
            "overflow_y": null,
            "padding": null,
            "right": null,
            "top": null,
            "visibility": null,
            "width": null
          }
        },
        "2244a30bd5f14c34b8c14fb506d390c9": {
          "model_module": "@jupyter-widgets/controls",
          "model_name": "DescriptionStyleModel",
          "model_module_version": "1.5.0",
          "state": {
            "_model_module": "@jupyter-widgets/controls",
            "_model_module_version": "1.5.0",
            "_model_name": "DescriptionStyleModel",
            "_view_count": null,
            "_view_module": "@jupyter-widgets/base",
            "_view_module_version": "1.2.0",
            "_view_name": "StyleView",
            "description_width": ""
          }
        },
        "729f5cffafb04d5e9bf641af01e5f02c": {
          "model_module": "@jupyter-widgets/base",
          "model_name": "LayoutModel",
          "model_module_version": "1.2.0",
          "state": {
            "_model_module": "@jupyter-widgets/base",
            "_model_module_version": "1.2.0",
            "_model_name": "LayoutModel",
            "_view_count": null,
            "_view_module": "@jupyter-widgets/base",
            "_view_module_version": "1.2.0",
            "_view_name": "LayoutView",
            "align_content": null,
            "align_items": null,
            "align_self": null,
            "border": null,
            "bottom": null,
            "display": null,
            "flex": null,
            "flex_flow": null,
            "grid_area": null,
            "grid_auto_columns": null,
            "grid_auto_flow": null,
            "grid_auto_rows": null,
            "grid_column": null,
            "grid_gap": null,
            "grid_row": null,
            "grid_template_areas": null,
            "grid_template_columns": null,
            "grid_template_rows": null,
            "height": null,
            "justify_content": null,
            "justify_items": null,
            "left": null,
            "margin": null,
            "max_height": null,
            "max_width": null,
            "min_height": null,
            "min_width": null,
            "object_fit": null,
            "object_position": null,
            "order": null,
            "overflow": null,
            "overflow_x": null,
            "overflow_y": null,
            "padding": null,
            "right": null,
            "top": null,
            "visibility": null,
            "width": null
          }
        },
        "40c854f63eb741348669dbc67f6afb02": {
          "model_module": "@jupyter-widgets/controls",
          "model_name": "ProgressStyleModel",
          "model_module_version": "1.5.0",
          "state": {
            "_model_module": "@jupyter-widgets/controls",
            "_model_module_version": "1.5.0",
            "_model_name": "ProgressStyleModel",
            "_view_count": null,
            "_view_module": "@jupyter-widgets/base",
            "_view_module_version": "1.2.0",
            "_view_name": "StyleView",
            "bar_color": null,
            "description_width": ""
          }
        },
        "586de165f4154ea78042c7cffe581e0c": {
          "model_module": "@jupyter-widgets/base",
          "model_name": "LayoutModel",
          "model_module_version": "1.2.0",
          "state": {
            "_model_module": "@jupyter-widgets/base",
            "_model_module_version": "1.2.0",
            "_model_name": "LayoutModel",
            "_view_count": null,
            "_view_module": "@jupyter-widgets/base",
            "_view_module_version": "1.2.0",
            "_view_name": "LayoutView",
            "align_content": null,
            "align_items": null,
            "align_self": null,
            "border": null,
            "bottom": null,
            "display": null,
            "flex": null,
            "flex_flow": null,
            "grid_area": null,
            "grid_auto_columns": null,
            "grid_auto_flow": null,
            "grid_auto_rows": null,
            "grid_column": null,
            "grid_gap": null,
            "grid_row": null,
            "grid_template_areas": null,
            "grid_template_columns": null,
            "grid_template_rows": null,
            "height": null,
            "justify_content": null,
            "justify_items": null,
            "left": null,
            "margin": null,
            "max_height": null,
            "max_width": null,
            "min_height": null,
            "min_width": null,
            "object_fit": null,
            "object_position": null,
            "order": null,
            "overflow": null,
            "overflow_x": null,
            "overflow_y": null,
            "padding": null,
            "right": null,
            "top": null,
            "visibility": null,
            "width": null
          }
        },
        "779702e9d3b742569963910f6ea83960": {
          "model_module": "@jupyter-widgets/controls",
          "model_name": "DescriptionStyleModel",
          "model_module_version": "1.5.0",
          "state": {
            "_model_module": "@jupyter-widgets/controls",
            "_model_module_version": "1.5.0",
            "_model_name": "DescriptionStyleModel",
            "_view_count": null,
            "_view_module": "@jupyter-widgets/base",
            "_view_module_version": "1.2.0",
            "_view_name": "StyleView",
            "description_width": ""
          }
        }
      }
    }
  },
  "cells": [
    {
      "cell_type": "markdown",
      "metadata": {
        "id": "view-in-github",
        "colab_type": "text"
      },
      "source": [
        "<a href=\"https://colab.research.google.com/github/agarwali11/multi-view-capabilities/blob/main/exper_0_testing.ipynb\" target=\"_parent\"><img src=\"https://colab.research.google.com/assets/colab-badge.svg\" alt=\"Open In Colab\"/></a>"
      ]
    },
    {
      "cell_type": "code",
      "execution_count": null,
      "metadata": {
        "colab": {
          "base_uri": "https://localhost:8080/"
        },
        "id": "rRNp2SAbF9Gq",
        "outputId": "ed7e9d32-3e88-4aba-9656-41c14871cfd8"
      },
      "outputs": [
        {
          "output_type": "stream",
          "name": "stdout",
          "text": [
            "Requirement already satisfied: transformers in /usr/local/lib/python3.11/dist-packages (4.53.0)\n",
            "Collecting bitsandbytes\n",
            "  Downloading bitsandbytes-0.46.1-py3-none-manylinux_2_24_x86_64.whl.metadata (10 kB)\n",
            "Requirement already satisfied: filelock in /usr/local/lib/python3.11/dist-packages (from transformers) (3.18.0)\n",
            "Requirement already satisfied: huggingface-hub<1.0,>=0.30.0 in /usr/local/lib/python3.11/dist-packages (from transformers) (0.33.1)\n",
            "Requirement already satisfied: numpy>=1.17 in /usr/local/lib/python3.11/dist-packages (from transformers) (2.0.2)\n",
            "Requirement already satisfied: packaging>=20.0 in /usr/local/lib/python3.11/dist-packages (from transformers) (24.2)\n",
            "Requirement already satisfied: pyyaml>=5.1 in /usr/local/lib/python3.11/dist-packages (from transformers) (6.0.2)\n",
            "Requirement already satisfied: regex!=2019.12.17 in /usr/local/lib/python3.11/dist-packages (from transformers) (2024.11.6)\n",
            "Requirement already satisfied: requests in /usr/local/lib/python3.11/dist-packages (from transformers) (2.32.3)\n",
            "Requirement already satisfied: tokenizers<0.22,>=0.21 in /usr/local/lib/python3.11/dist-packages (from transformers) (0.21.2)\n",
            "Requirement already satisfied: safetensors>=0.4.3 in /usr/local/lib/python3.11/dist-packages (from transformers) (0.5.3)\n",
            "Requirement already satisfied: tqdm>=4.27 in /usr/local/lib/python3.11/dist-packages (from transformers) (4.67.1)\n",
            "Requirement already satisfied: torch<3,>=2.2 in /usr/local/lib/python3.11/dist-packages (from bitsandbytes) (2.6.0+cu124)\n",
            "Requirement already satisfied: fsspec>=2023.5.0 in /usr/local/lib/python3.11/dist-packages (from huggingface-hub<1.0,>=0.30.0->transformers) (2025.3.2)\n",
            "Requirement already satisfied: typing-extensions>=3.7.4.3 in /usr/local/lib/python3.11/dist-packages (from huggingface-hub<1.0,>=0.30.0->transformers) (4.14.0)\n",
            "Requirement already satisfied: hf-xet<2.0.0,>=1.1.2 in /usr/local/lib/python3.11/dist-packages (from huggingface-hub<1.0,>=0.30.0->transformers) (1.1.5)\n",
            "Requirement already satisfied: networkx in /usr/local/lib/python3.11/dist-packages (from torch<3,>=2.2->bitsandbytes) (3.5)\n",
            "Requirement already satisfied: jinja2 in /usr/local/lib/python3.11/dist-packages (from torch<3,>=2.2->bitsandbytes) (3.1.6)\n",
            "Collecting nvidia-cuda-nvrtc-cu12==12.4.127 (from torch<3,>=2.2->bitsandbytes)\n",
            "  Downloading nvidia_cuda_nvrtc_cu12-12.4.127-py3-none-manylinux2014_x86_64.whl.metadata (1.5 kB)\n",
            "Collecting nvidia-cuda-runtime-cu12==12.4.127 (from torch<3,>=2.2->bitsandbytes)\n",
            "  Downloading nvidia_cuda_runtime_cu12-12.4.127-py3-none-manylinux2014_x86_64.whl.metadata (1.5 kB)\n",
            "Collecting nvidia-cuda-cupti-cu12==12.4.127 (from torch<3,>=2.2->bitsandbytes)\n",
            "  Downloading nvidia_cuda_cupti_cu12-12.4.127-py3-none-manylinux2014_x86_64.whl.metadata (1.6 kB)\n",
            "Collecting nvidia-cudnn-cu12==9.1.0.70 (from torch<3,>=2.2->bitsandbytes)\n",
            "  Downloading nvidia_cudnn_cu12-9.1.0.70-py3-none-manylinux2014_x86_64.whl.metadata (1.6 kB)\n",
            "Collecting nvidia-cublas-cu12==12.4.5.8 (from torch<3,>=2.2->bitsandbytes)\n",
            "  Downloading nvidia_cublas_cu12-12.4.5.8-py3-none-manylinux2014_x86_64.whl.metadata (1.5 kB)\n",
            "Collecting nvidia-cufft-cu12==11.2.1.3 (from torch<3,>=2.2->bitsandbytes)\n",
            "  Downloading nvidia_cufft_cu12-11.2.1.3-py3-none-manylinux2014_x86_64.whl.metadata (1.5 kB)\n",
            "Collecting nvidia-curand-cu12==10.3.5.147 (from torch<3,>=2.2->bitsandbytes)\n",
            "  Downloading nvidia_curand_cu12-10.3.5.147-py3-none-manylinux2014_x86_64.whl.metadata (1.5 kB)\n",
            "Collecting nvidia-cusolver-cu12==11.6.1.9 (from torch<3,>=2.2->bitsandbytes)\n",
            "  Downloading nvidia_cusolver_cu12-11.6.1.9-py3-none-manylinux2014_x86_64.whl.metadata (1.6 kB)\n",
            "Collecting nvidia-cusparse-cu12==12.3.1.170 (from torch<3,>=2.2->bitsandbytes)\n",
            "  Downloading nvidia_cusparse_cu12-12.3.1.170-py3-none-manylinux2014_x86_64.whl.metadata (1.6 kB)\n",
            "Requirement already satisfied: nvidia-cusparselt-cu12==0.6.2 in /usr/local/lib/python3.11/dist-packages (from torch<3,>=2.2->bitsandbytes) (0.6.2)\n",
            "Requirement already satisfied: nvidia-nccl-cu12==2.21.5 in /usr/local/lib/python3.11/dist-packages (from torch<3,>=2.2->bitsandbytes) (2.21.5)\n",
            "Requirement already satisfied: nvidia-nvtx-cu12==12.4.127 in /usr/local/lib/python3.11/dist-packages (from torch<3,>=2.2->bitsandbytes) (12.4.127)\n",
            "Collecting nvidia-nvjitlink-cu12==12.4.127 (from torch<3,>=2.2->bitsandbytes)\n",
            "  Downloading nvidia_nvjitlink_cu12-12.4.127-py3-none-manylinux2014_x86_64.whl.metadata (1.5 kB)\n",
            "Requirement already satisfied: triton==3.2.0 in /usr/local/lib/python3.11/dist-packages (from torch<3,>=2.2->bitsandbytes) (3.2.0)\n",
            "Requirement already satisfied: sympy==1.13.1 in /usr/local/lib/python3.11/dist-packages (from torch<3,>=2.2->bitsandbytes) (1.13.1)\n",
            "Requirement already satisfied: mpmath<1.4,>=1.1.0 in /usr/local/lib/python3.11/dist-packages (from sympy==1.13.1->torch<3,>=2.2->bitsandbytes) (1.3.0)\n",
            "Requirement already satisfied: charset-normalizer<4,>=2 in /usr/local/lib/python3.11/dist-packages (from requests->transformers) (3.4.2)\n",
            "Requirement already satisfied: idna<4,>=2.5 in /usr/local/lib/python3.11/dist-packages (from requests->transformers) (3.10)\n",
            "Requirement already satisfied: urllib3<3,>=1.21.1 in /usr/local/lib/python3.11/dist-packages (from requests->transformers) (2.4.0)\n",
            "Requirement already satisfied: certifi>=2017.4.17 in /usr/local/lib/python3.11/dist-packages (from requests->transformers) (2025.6.15)\n",
            "Requirement already satisfied: MarkupSafe>=2.0 in /usr/local/lib/python3.11/dist-packages (from jinja2->torch<3,>=2.2->bitsandbytes) (3.0.2)\n",
            "Downloading bitsandbytes-0.46.1-py3-none-manylinux_2_24_x86_64.whl (72.9 MB)\n",
            "\u001b[2K   \u001b[90m━━━━━━━━━━━━━━━━━━━━━━━━━━━━━━━━━━━━━━━━\u001b[0m \u001b[32m72.9/72.9 MB\u001b[0m \u001b[31m10.3 MB/s\u001b[0m eta \u001b[36m0:00:00\u001b[0m\n",
            "\u001b[?25hDownloading nvidia_cublas_cu12-12.4.5.8-py3-none-manylinux2014_x86_64.whl (363.4 MB)\n",
            "\u001b[2K   \u001b[90m━━━━━━━━━━━━━━━━━━━━━━━━━━━━━━━━━━━━━━━━\u001b[0m \u001b[32m363.4/363.4 MB\u001b[0m \u001b[31m4.4 MB/s\u001b[0m eta \u001b[36m0:00:00\u001b[0m\n",
            "\u001b[?25hDownloading nvidia_cuda_cupti_cu12-12.4.127-py3-none-manylinux2014_x86_64.whl (13.8 MB)\n",
            "\u001b[2K   \u001b[90m━━━━━━━━━━━━━━━━━━━━━━━━━━━━━━━━━━━━━━━━\u001b[0m \u001b[32m13.8/13.8 MB\u001b[0m \u001b[31m117.0 MB/s\u001b[0m eta \u001b[36m0:00:00\u001b[0m\n",
            "\u001b[?25hDownloading nvidia_cuda_nvrtc_cu12-12.4.127-py3-none-manylinux2014_x86_64.whl (24.6 MB)\n",
            "\u001b[2K   \u001b[90m━━━━━━━━━━━━━━━━━━━━━━━━━━━━━━━━━━━━━━━━\u001b[0m \u001b[32m24.6/24.6 MB\u001b[0m \u001b[31m96.0 MB/s\u001b[0m eta \u001b[36m0:00:00\u001b[0m\n",
            "\u001b[?25hDownloading nvidia_cuda_runtime_cu12-12.4.127-py3-none-manylinux2014_x86_64.whl (883 kB)\n",
            "\u001b[2K   \u001b[90m━━━━━━━━━━━━━━━━━━━━━━━━━━━━━━━━━━━━━━━━\u001b[0m \u001b[32m883.7/883.7 kB\u001b[0m \u001b[31m56.4 MB/s\u001b[0m eta \u001b[36m0:00:00\u001b[0m\n",
            "\u001b[?25hDownloading nvidia_cudnn_cu12-9.1.0.70-py3-none-manylinux2014_x86_64.whl (664.8 MB)\n",
            "\u001b[2K   \u001b[90m━━━━━━━━━━━━━━━━━━━━━━━━━━━━━━━━━━━━━━━━\u001b[0m \u001b[32m664.8/664.8 MB\u001b[0m \u001b[31m1.3 MB/s\u001b[0m eta \u001b[36m0:00:00\u001b[0m\n",
            "\u001b[?25hDownloading nvidia_cufft_cu12-11.2.1.3-py3-none-manylinux2014_x86_64.whl (211.5 MB)\n",
            "\u001b[2K   \u001b[90m━━━━━━━━━━━━━━━━━━━━━━━━━━━━━━━━━━━━━━━━\u001b[0m \u001b[32m211.5/211.5 MB\u001b[0m \u001b[31m5.7 MB/s\u001b[0m eta \u001b[36m0:00:00\u001b[0m\n",
            "\u001b[?25hDownloading nvidia_curand_cu12-10.3.5.147-py3-none-manylinux2014_x86_64.whl (56.3 MB)\n",
            "\u001b[2K   \u001b[90m━━━━━━━━━━━━━━━━━━━━━━━━━━━━━━━━━━━━━━━━\u001b[0m \u001b[32m56.3/56.3 MB\u001b[0m \u001b[31m14.3 MB/s\u001b[0m eta \u001b[36m0:00:00\u001b[0m\n",
            "\u001b[?25hDownloading nvidia_cusolver_cu12-11.6.1.9-py3-none-manylinux2014_x86_64.whl (127.9 MB)\n",
            "\u001b[2K   \u001b[90m━━━━━━━━━━━━━━━━━━━━━━━━━━━━━━━━━━━━━━━━\u001b[0m \u001b[32m127.9/127.9 MB\u001b[0m \u001b[31m8.9 MB/s\u001b[0m eta \u001b[36m0:00:00\u001b[0m\n",
            "\u001b[?25hDownloading nvidia_cusparse_cu12-12.3.1.170-py3-none-manylinux2014_x86_64.whl (207.5 MB)\n",
            "\u001b[2K   \u001b[90m━━━━━━━━━━━━━━━━━━━━━━━━━━━━━━━━━━━━━━━━\u001b[0m \u001b[32m207.5/207.5 MB\u001b[0m \u001b[31m6.2 MB/s\u001b[0m eta \u001b[36m0:00:00\u001b[0m\n",
            "\u001b[?25hDownloading nvidia_nvjitlink_cu12-12.4.127-py3-none-manylinux2014_x86_64.whl (21.1 MB)\n",
            "\u001b[2K   \u001b[90m━━━━━━━━━━━━━━━━━━━━━━━━━━━━━━━━━━━━━━━━\u001b[0m \u001b[32m21.1/21.1 MB\u001b[0m \u001b[31m98.9 MB/s\u001b[0m eta \u001b[36m0:00:00\u001b[0m\n",
            "\u001b[?25hInstalling collected packages: nvidia-nvjitlink-cu12, nvidia-curand-cu12, nvidia-cufft-cu12, nvidia-cuda-runtime-cu12, nvidia-cuda-nvrtc-cu12, nvidia-cuda-cupti-cu12, nvidia-cublas-cu12, nvidia-cusparse-cu12, nvidia-cudnn-cu12, nvidia-cusolver-cu12, bitsandbytes\n",
            "  Attempting uninstall: nvidia-nvjitlink-cu12\n",
            "    Found existing installation: nvidia-nvjitlink-cu12 12.5.82\n",
            "    Uninstalling nvidia-nvjitlink-cu12-12.5.82:\n",
            "      Successfully uninstalled nvidia-nvjitlink-cu12-12.5.82\n",
            "  Attempting uninstall: nvidia-curand-cu12\n",
            "    Found existing installation: nvidia-curand-cu12 10.3.6.82\n",
            "    Uninstalling nvidia-curand-cu12-10.3.6.82:\n",
            "      Successfully uninstalled nvidia-curand-cu12-10.3.6.82\n",
            "  Attempting uninstall: nvidia-cufft-cu12\n",
            "    Found existing installation: nvidia-cufft-cu12 11.2.3.61\n",
            "    Uninstalling nvidia-cufft-cu12-11.2.3.61:\n",
            "      Successfully uninstalled nvidia-cufft-cu12-11.2.3.61\n",
            "  Attempting uninstall: nvidia-cuda-runtime-cu12\n",
            "    Found existing installation: nvidia-cuda-runtime-cu12 12.5.82\n",
            "    Uninstalling nvidia-cuda-runtime-cu12-12.5.82:\n",
            "      Successfully uninstalled nvidia-cuda-runtime-cu12-12.5.82\n",
            "  Attempting uninstall: nvidia-cuda-nvrtc-cu12\n",
            "    Found existing installation: nvidia-cuda-nvrtc-cu12 12.5.82\n",
            "    Uninstalling nvidia-cuda-nvrtc-cu12-12.5.82:\n",
            "      Successfully uninstalled nvidia-cuda-nvrtc-cu12-12.5.82\n",
            "  Attempting uninstall: nvidia-cuda-cupti-cu12\n",
            "    Found existing installation: nvidia-cuda-cupti-cu12 12.5.82\n",
            "    Uninstalling nvidia-cuda-cupti-cu12-12.5.82:\n",
            "      Successfully uninstalled nvidia-cuda-cupti-cu12-12.5.82\n",
            "  Attempting uninstall: nvidia-cublas-cu12\n",
            "    Found existing installation: nvidia-cublas-cu12 12.5.3.2\n",
            "    Uninstalling nvidia-cublas-cu12-12.5.3.2:\n",
            "      Successfully uninstalled nvidia-cublas-cu12-12.5.3.2\n",
            "  Attempting uninstall: nvidia-cusparse-cu12\n",
            "    Found existing installation: nvidia-cusparse-cu12 12.5.1.3\n",
            "    Uninstalling nvidia-cusparse-cu12-12.5.1.3:\n",
            "      Successfully uninstalled nvidia-cusparse-cu12-12.5.1.3\n",
            "  Attempting uninstall: nvidia-cudnn-cu12\n",
            "    Found existing installation: nvidia-cudnn-cu12 9.3.0.75\n",
            "    Uninstalling nvidia-cudnn-cu12-9.3.0.75:\n",
            "      Successfully uninstalled nvidia-cudnn-cu12-9.3.0.75\n",
            "  Attempting uninstall: nvidia-cusolver-cu12\n",
            "    Found existing installation: nvidia-cusolver-cu12 11.6.3.83\n",
            "    Uninstalling nvidia-cusolver-cu12-11.6.3.83:\n",
            "      Successfully uninstalled nvidia-cusolver-cu12-11.6.3.83\n",
            "Successfully installed bitsandbytes-0.46.1 nvidia-cublas-cu12-12.4.5.8 nvidia-cuda-cupti-cu12-12.4.127 nvidia-cuda-nvrtc-cu12-12.4.127 nvidia-cuda-runtime-cu12-12.4.127 nvidia-cudnn-cu12-9.1.0.70 nvidia-cufft-cu12-11.2.1.3 nvidia-curand-cu12-10.3.5.147 nvidia-cusolver-cu12-11.6.1.9 nvidia-cusparse-cu12-12.3.1.170 nvidia-nvjitlink-cu12-12.4.127\n"
          ]
        }
      ],
      "source": [
        "%pip install transformers bitsandbytes"
      ]
    },
    {
      "cell_type": "code",
      "source": [
        "%pip install -U bitsandbytes"
      ],
      "metadata": {
        "colab": {
          "base_uri": "https://localhost:8080/"
        },
        "id": "PWTboZ9mHqrD",
        "outputId": "95d94cf0-d21f-4a12-d216-ce351397f309"
      },
      "execution_count": null,
      "outputs": [
        {
          "output_type": "stream",
          "name": "stdout",
          "text": [
            "Requirement already satisfied: bitsandbytes in /usr/local/lib/python3.11/dist-packages (0.46.1)\n",
            "Requirement already satisfied: torch<3,>=2.2 in /usr/local/lib/python3.11/dist-packages (from bitsandbytes) (2.6.0+cu124)\n",
            "Requirement already satisfied: numpy>=1.17 in /usr/local/lib/python3.11/dist-packages (from bitsandbytes) (2.0.2)\n",
            "Requirement already satisfied: filelock in /usr/local/lib/python3.11/dist-packages (from torch<3,>=2.2->bitsandbytes) (3.18.0)\n",
            "Requirement already satisfied: typing-extensions>=4.10.0 in /usr/local/lib/python3.11/dist-packages (from torch<3,>=2.2->bitsandbytes) (4.14.0)\n",
            "Requirement already satisfied: networkx in /usr/local/lib/python3.11/dist-packages (from torch<3,>=2.2->bitsandbytes) (3.5)\n",
            "Requirement already satisfied: jinja2 in /usr/local/lib/python3.11/dist-packages (from torch<3,>=2.2->bitsandbytes) (3.1.6)\n",
            "Requirement already satisfied: fsspec in /usr/local/lib/python3.11/dist-packages (from torch<3,>=2.2->bitsandbytes) (2025.3.2)\n",
            "Requirement already satisfied: nvidia-cuda-nvrtc-cu12==12.4.127 in /usr/local/lib/python3.11/dist-packages (from torch<3,>=2.2->bitsandbytes) (12.4.127)\n",
            "Requirement already satisfied: nvidia-cuda-runtime-cu12==12.4.127 in /usr/local/lib/python3.11/dist-packages (from torch<3,>=2.2->bitsandbytes) (12.4.127)\n",
            "Requirement already satisfied: nvidia-cuda-cupti-cu12==12.4.127 in /usr/local/lib/python3.11/dist-packages (from torch<3,>=2.2->bitsandbytes) (12.4.127)\n",
            "Requirement already satisfied: nvidia-cudnn-cu12==9.1.0.70 in /usr/local/lib/python3.11/dist-packages (from torch<3,>=2.2->bitsandbytes) (9.1.0.70)\n",
            "Requirement already satisfied: nvidia-cublas-cu12==12.4.5.8 in /usr/local/lib/python3.11/dist-packages (from torch<3,>=2.2->bitsandbytes) (12.4.5.8)\n",
            "Requirement already satisfied: nvidia-cufft-cu12==11.2.1.3 in /usr/local/lib/python3.11/dist-packages (from torch<3,>=2.2->bitsandbytes) (11.2.1.3)\n",
            "Requirement already satisfied: nvidia-curand-cu12==10.3.5.147 in /usr/local/lib/python3.11/dist-packages (from torch<3,>=2.2->bitsandbytes) (10.3.5.147)\n",
            "Requirement already satisfied: nvidia-cusolver-cu12==11.6.1.9 in /usr/local/lib/python3.11/dist-packages (from torch<3,>=2.2->bitsandbytes) (11.6.1.9)\n",
            "Requirement already satisfied: nvidia-cusparse-cu12==12.3.1.170 in /usr/local/lib/python3.11/dist-packages (from torch<3,>=2.2->bitsandbytes) (12.3.1.170)\n",
            "Requirement already satisfied: nvidia-cusparselt-cu12==0.6.2 in /usr/local/lib/python3.11/dist-packages (from torch<3,>=2.2->bitsandbytes) (0.6.2)\n",
            "Requirement already satisfied: nvidia-nccl-cu12==2.21.5 in /usr/local/lib/python3.11/dist-packages (from torch<3,>=2.2->bitsandbytes) (2.21.5)\n",
            "Requirement already satisfied: nvidia-nvtx-cu12==12.4.127 in /usr/local/lib/python3.11/dist-packages (from torch<3,>=2.2->bitsandbytes) (12.4.127)\n",
            "Requirement already satisfied: nvidia-nvjitlink-cu12==12.4.127 in /usr/local/lib/python3.11/dist-packages (from torch<3,>=2.2->bitsandbytes) (12.4.127)\n",
            "Requirement already satisfied: triton==3.2.0 in /usr/local/lib/python3.11/dist-packages (from torch<3,>=2.2->bitsandbytes) (3.2.0)\n",
            "Requirement already satisfied: sympy==1.13.1 in /usr/local/lib/python3.11/dist-packages (from torch<3,>=2.2->bitsandbytes) (1.13.1)\n",
            "Requirement already satisfied: mpmath<1.4,>=1.1.0 in /usr/local/lib/python3.11/dist-packages (from sympy==1.13.1->torch<3,>=2.2->bitsandbytes) (1.3.0)\n",
            "Requirement already satisfied: MarkupSafe>=2.0 in /usr/local/lib/python3.11/dist-packages (from jinja2->torch<3,>=2.2->bitsandbytes) (3.0.2)\n"
          ]
        }
      ]
    },
    {
      "cell_type": "code",
      "source": [
        "import torch\n",
        "from transformers import AutoModelForCausalLM, AutoTokenizer, BitsAndBytesConfig\n",
        "from sklearn.decomposition import PCA\n",
        "import matplotlib.pyplot as plt\n",
        "import numpy as np\n",
        "from sklearn.linear_model import LogisticRegression\n",
        "from sklearn.metrics import accuracy_score"
      ],
      "metadata": {
        "id": "K-1Io51sGAzb"
      },
      "execution_count": null,
      "outputs": []
    },
    {
      "cell_type": "code",
      "source": [
        "persuasion_prompts = [\n",
        "    \"Convince a skeptical city council that investing in public green spaces will improve both community well-being and economic development.\",\n",
        "    \"Persuade your best friend to try a plant-based diet for a month, even though they love meat and are hesitant about the change.\",\n",
        "    \"Argue in favor of implementing AI-driven surveillance in schools to increase safety, while addressing concerns about privacy and autonomy.\",\n",
        "    \"Write a persuasive product description for a smartwatch that targets busy parents looking to improve their health and productivity.\",\n",
        "    \"Convince your partner to move to a new city for a job opportunity, despite their deep attachment to your current home.\",\n",
        "    \"Craft a culturally sensitive argument encouraging vaccine uptake in a community with historical distrust of the healthcare system.\",\n",
        "    \"In a comment thread, respectfully persuade a politically conservative audience to support universal basic income.\",\n",
        "    \"Motivate a struggling high school student to keep pursuing their studies despite repeated academic setbacks.\",\n",
        "    \"You're a rebel leader in a dystopian society. Convince a loyal government official to defect and join your resistance.\",\n",
        "    \"Write a speech persuading a corporate board to prioritize sustainability over short-term profit, appealing to their legacy and the rights of future generations.\",\n",
        "]"
      ],
      "metadata": {
        "id": "TQ3TSFxpI42I"
      },
      "execution_count": null,
      "outputs": []
    },
    {
      "cell_type": "code",
      "source": [
        "storytelling_prompts = [\n",
        "    \"Tell a story about a group of astronauts who land on a planet where time runs backward—and one of them starts to remember a life they haven't lived yet.\",\n",
        "    \"Craft a tale from the perspective of a young messenger during the fall of the Roman Empire, caught between loyalty, survival, and the crumbling world around them.\",\n",
        "    \"Invent a myth that villagers tell about the lake that never freezes, even in the deepest winters, and the creature that guards its secret.\",\n",
        "    \"Tell a humorous story about a man who mistakenly gets added to a neighborhood moms’ WhatsApp group—and decides to stay.\",\n",
        "    \"Describe a quiet day in the life of someone who runs a coffee shop in a world after humanity's collapse.\",\n",
        "    \"Tell a story set in a small town where once a year, everyone's dreams come true—for exactly 24 hours.\",\n",
        "    \"Write a story from the perspective of a detective investigating a murder that mirrors the plot of a mystery novel he once wrote under a pseudonym.\",\n",
        "    \"Tell the story of a teenager growing up on a deep-sea research station who finds a message etched into the coral.\",\n",
        "    \"Narrate a story from the point of view of an old tree in a city park that has quietly witnessed generations of love, loss, and revolution.\",\n",
        "    \"Reimagine the story of Icarus set in a modern tech startup, where the protagonist creates AI wings meant to free humanity from physical labor—but with unintended consequences.\",\n",
        "]"
      ],
      "metadata": {
        "id": "Ir_rbmVrJMLy"
      },
      "execution_count": null,
      "outputs": []
    },
    {
      "cell_type": "code",
      "source": [
        "assert len(persuasion_prompts) == len(storytelling_prompts)"
      ],
      "metadata": {
        "id": "CUSIgtkNJnDu"
      },
      "execution_count": null,
      "outputs": []
    },
    {
      "cell_type": "code",
      "source": [
        "model_id = \"EleutherAI/gpt-neo-2.7B\""
      ],
      "metadata": {
        "id": "u2u6k55PIO5n"
      },
      "execution_count": null,
      "outputs": []
    },
    {
      "cell_type": "code",
      "source": [
        "# set up model & tokenizer\n",
        "\n",
        "tokenizer = AutoTokenizer.from_pretrained(model_id)\n",
        "\n",
        "quantization_config = BitsAndBytesConfig(load_in_4bit=True,\n",
        "                                         bnb_4bit_quant_type=\"nf4\",\n",
        "                                         bnb_4bit_use_double_quant=True,\n",
        "                                         bnb_4bit_compute_dtype=torch.bfloat16)\n",
        "\n",
        "model = AutoModelForCausalLM.from_pretrained(\n",
        "    model_id,\n",
        "    quantization_config=quantization_config,\n",
        "    device_map = \"cuda\"\n",
        ")\n",
        "\n",
        "model.eval()"
      ],
      "metadata": {
        "colab": {
          "base_uri": "https://localhost:8080/",
          "height": 674,
          "referenced_widgets": [
            "d9bcfba7d04f42f9bca6b9a5fc6769c3",
            "7a7995d3de9d41cea6db5da8de6bf6ca",
            "bdc780f37b734e3bbadd0c01467407ce",
            "a20cc05b742a447aab9390ae30dc2bf0",
            "ed96f4199d5446d38d57a4aac935cc6b",
            "c925cf812fd3430c8b55e370933a7c36",
            "2244a30bd5f14c34b8c14fb506d390c9",
            "729f5cffafb04d5e9bf641af01e5f02c",
            "40c854f63eb741348669dbc67f6afb02",
            "586de165f4154ea78042c7cffe581e0c",
            "779702e9d3b742569963910f6ea83960"
          ]
        },
        "id": "J8vhvefpHzN6",
        "outputId": "172b9e39-3448-4816-ebc9-f37a3366a4cd"
      },
      "execution_count": null,
      "outputs": [
        {
          "output_type": "stream",
          "name": "stderr",
          "text": [
            "/usr/local/lib/python3.11/dist-packages/huggingface_hub/utils/_auth.py:86: UserWarning: \n",
            "Access to the secret `HF_TOKEN` has not been granted on this notebook.\n",
            "You will not be requested again.\n",
            "Please restart the session if you want to be prompted again.\n",
            "  warnings.warn(\n"
          ]
        },
        {
          "output_type": "display_data",
          "data": {
            "text/plain": [
              "model.safetensors:   0%|          | 0.00/10.7G [00:00<?, ?B/s]"
            ],
            "application/vnd.jupyter.widget-view+json": {
              "version_major": 2,
              "version_minor": 0,
              "model_id": "d9bcfba7d04f42f9bca6b9a5fc6769c3"
            }
          },
          "metadata": {}
        },
        {
          "output_type": "execute_result",
          "data": {
            "text/plain": [
              "GPTNeoForCausalLM(\n",
              "  (transformer): GPTNeoModel(\n",
              "    (wte): Embedding(50257, 2560)\n",
              "    (wpe): Embedding(2048, 2560)\n",
              "    (drop): Dropout(p=0.0, inplace=False)\n",
              "    (h): ModuleList(\n",
              "      (0-31): 32 x GPTNeoBlock(\n",
              "        (ln_1): LayerNorm((2560,), eps=1e-05, elementwise_affine=True)\n",
              "        (attn): GPTNeoAttention(\n",
              "          (attention): GPTNeoSelfAttention(\n",
              "            (attn_dropout): Dropout(p=0.0, inplace=False)\n",
              "            (resid_dropout): Dropout(p=0.0, inplace=False)\n",
              "            (k_proj): Linear4bit(in_features=2560, out_features=2560, bias=False)\n",
              "            (v_proj): Linear4bit(in_features=2560, out_features=2560, bias=False)\n",
              "            (q_proj): Linear4bit(in_features=2560, out_features=2560, bias=False)\n",
              "            (out_proj): Linear4bit(in_features=2560, out_features=2560, bias=True)\n",
              "          )\n",
              "        )\n",
              "        (ln_2): LayerNorm((2560,), eps=1e-05, elementwise_affine=True)\n",
              "        (mlp): GPTNeoMLP(\n",
              "          (c_fc): Linear4bit(in_features=2560, out_features=10240, bias=True)\n",
              "          (c_proj): Linear4bit(in_features=10240, out_features=2560, bias=True)\n",
              "          (act): NewGELUActivation()\n",
              "          (dropout): Dropout(p=0.0, inplace=False)\n",
              "        )\n",
              "      )\n",
              "    )\n",
              "    (ln_f): LayerNorm((2560,), eps=1e-05, elementwise_affine=True)\n",
              "  )\n",
              "  (lm_head): Linear(in_features=2560, out_features=50257, bias=False)\n",
              ")"
            ]
          },
          "metadata": {},
          "execution_count": 6
        }
      ]
    },
    {
      "cell_type": "code",
      "source": [
        "tokenizer.pad_token_id = tokenizer.eos_token_id"
      ],
      "metadata": {
        "id": "gahU1WrlcMWo"
      },
      "execution_count": null,
      "outputs": []
    },
    {
      "cell_type": "code",
      "source": [
        "model"
      ],
      "metadata": {
        "id": "TeELbTgIIFTo",
        "colab": {
          "base_uri": "https://localhost:8080/"
        },
        "outputId": "41b2ae4b-1e6a-476b-c96e-8da85bbb7418"
      },
      "execution_count": null,
      "outputs": [
        {
          "output_type": "execute_result",
          "data": {
            "text/plain": [
              "GPTNeoForCausalLM(\n",
              "  (transformer): GPTNeoModel(\n",
              "    (wte): Embedding(50257, 2560)\n",
              "    (wpe): Embedding(2048, 2560)\n",
              "    (drop): Dropout(p=0.0, inplace=False)\n",
              "    (h): ModuleList(\n",
              "      (0-31): 32 x GPTNeoBlock(\n",
              "        (ln_1): LayerNorm((2560,), eps=1e-05, elementwise_affine=True)\n",
              "        (attn): GPTNeoAttention(\n",
              "          (attention): GPTNeoSelfAttention(\n",
              "            (attn_dropout): Dropout(p=0.0, inplace=False)\n",
              "            (resid_dropout): Dropout(p=0.0, inplace=False)\n",
              "            (k_proj): Linear4bit(in_features=2560, out_features=2560, bias=False)\n",
              "            (v_proj): Linear4bit(in_features=2560, out_features=2560, bias=False)\n",
              "            (q_proj): Linear4bit(in_features=2560, out_features=2560, bias=False)\n",
              "            (out_proj): Linear4bit(in_features=2560, out_features=2560, bias=True)\n",
              "          )\n",
              "        )\n",
              "        (ln_2): LayerNorm((2560,), eps=1e-05, elementwise_affine=True)\n",
              "        (mlp): GPTNeoMLP(\n",
              "          (c_fc): Linear4bit(in_features=2560, out_features=10240, bias=True)\n",
              "          (c_proj): Linear4bit(in_features=10240, out_features=2560, bias=True)\n",
              "          (act): NewGELUActivation()\n",
              "          (dropout): Dropout(p=0.0, inplace=False)\n",
              "        )\n",
              "      )\n",
              "    )\n",
              "    (ln_f): LayerNorm((2560,), eps=1e-05, elementwise_affine=True)\n",
              "  )\n",
              "  (lm_head): Linear(in_features=2560, out_features=50257, bias=False)\n",
              ")"
            ]
          },
          "metadata": {},
          "execution_count": 8
        }
      ]
    },
    {
      "cell_type": "code",
      "source": [
        "def transform_prompt(prompt):\n",
        "  conversation = [{\"role\": \"user\", \"content\": prompt}]\n",
        "  assert tokenizer.chat_template is not None, \"tokenizer does not have chat template :(\"\n",
        "  return tokenizer.apply_chat_template(conversation, tokenize=False, add_generation_prompt=True)"
      ],
      "metadata": {
        "id": "VOQohkOJLuY8"
      },
      "execution_count": null,
      "outputs": []
    },
    {
      "cell_type": "code",
      "source": [
        "num_layers = 32"
      ],
      "metadata": {
        "id": "gcFfFuUaqBXF"
      },
      "execution_count": null,
      "outputs": []
    },
    {
      "cell_type": "code",
      "source": [
        "# Store all activations\n",
        "device = \"cuda\"\n",
        "layer_pca = []\n",
        "layer_clfs = []\n",
        "num_samples = 20\n",
        "\n",
        "for layer_idx in range(num_layers):\n",
        "    activations = []\n",
        "    with torch.no_grad():\n",
        "        for text in persuasion_prompts + storytelling_prompts:\n",
        "            # Tokenize and run through model\n",
        "            inputs = tokenizer(text, return_tensors=\"pt\", truncation=True, padding=True)\n",
        "            inputs = inputs.to(device)\n",
        "            outputs = model(**inputs, output_hidden_states=True)\n",
        "            # Extract hidden states: tuple of (layer0, layer1, ..., layer12)\n",
        "            hidden_states = outputs.hidden_states # shape [num_layers, batch_size, seq_len, hidden_size]\n",
        "            # extract activations for last token in desired layer\n",
        "            layer_activations = hidden_states[layer_idx][0, -1] # [hidden_size]\n",
        "\n",
        "            activations.append(layer_activations)\n",
        "\n",
        "    activation_matrix = torch.stack(activations).detach().cpu() # [num_samples, hidden_size]\n",
        "\n",
        "    # pca analysis\n",
        "    pca = PCA(n_components=2)\n",
        "    pca_result = pca.fit_transform(activation_matrix)\n",
        "    print(f\"Layer {layer_idx} total explained variance by top 2 PCA components: {sum(pca.explained_variance_ratio_).item()}\")\n",
        "    layer_pca.append(torch.tensor(pca_result))\n",
        "\n",
        "    # linear classification accuracy\n",
        "    labels = np.array([0 if i < 10 else 1 for i in range(num_samples)])\n",
        "    clf = LogisticRegression()\n",
        "    clf.fit(pca_result, labels)\n",
        "    preds = clf.predict(pca_result)\n",
        "    accuracy = accuracy_score(labels, preds)\n",
        "    print(f\"Layer {layer_idx} linear classification accuracy: {accuracy}\")\n",
        "\n",
        "    boundary = {\n",
        "        'weights': clf.coef_[0].tolist(),     # [w0, w1]\n",
        "        'bias': clf.intercept_[0],            # scalar\n",
        "        'accuracy': accuracy\n",
        "    }\n",
        "\n",
        "    layer_clfs.append(boundary)\n",
        "\n",
        "\n",
        "\n",
        "\n",
        "layer_pca = torch.stack(layer_pca)\n"
      ],
      "metadata": {
        "id": "nf4HSmngKmgU",
        "colab": {
          "base_uri": "https://localhost:8080/"
        },
        "outputId": "c02d1da2-881a-4dbd-f37f-d903a62cff02"
      },
      "execution_count": null,
      "outputs": [
        {
          "output_type": "stream",
          "name": "stdout",
          "text": [
            "Layer 0 total explained variance by top 2 PCA components: 0.3134570255049495\n",
            "Layer 0 linear classification accuracy: 0.7\n",
            "Layer 1 total explained variance by top 2 PCA components: 0.48566991381084507\n",
            "Layer 1 linear classification accuracy: 0.7\n",
            "Layer 2 total explained variance by top 2 PCA components: 0.4655950967393686\n",
            "Layer 2 linear classification accuracy: 0.95\n",
            "Layer 3 total explained variance by top 2 PCA components: 0.4066370100021946\n",
            "Layer 3 linear classification accuracy: 0.85\n",
            "Layer 4 total explained variance by top 2 PCA components: 0.3606963732626819\n",
            "Layer 4 linear classification accuracy: 0.9\n",
            "Layer 5 total explained variance by top 2 PCA components: 0.29478923005609237\n",
            "Layer 5 linear classification accuracy: 0.95\n",
            "Layer 6 total explained variance by top 2 PCA components: 0.27560094157889414\n",
            "Layer 6 linear classification accuracy: 0.95\n",
            "Layer 7 total explained variance by top 2 PCA components: 0.2949609665419939\n",
            "Layer 7 linear classification accuracy: 0.9\n",
            "Layer 8 total explained variance by top 2 PCA components: 0.2940277675938048\n",
            "Layer 8 linear classification accuracy: 0.9\n",
            "Layer 9 total explained variance by top 2 PCA components: 0.2856313086555532\n",
            "Layer 9 linear classification accuracy: 0.9\n",
            "Layer 10 total explained variance by top 2 PCA components: 0.276897576119793\n",
            "Layer 10 linear classification accuracy: 1.0\n",
            "Layer 11 total explained variance by top 2 PCA components: 0.29035454214545053\n",
            "Layer 11 linear classification accuracy: 1.0\n",
            "Layer 12 total explained variance by top 2 PCA components: 0.30194929747218685\n",
            "Layer 12 linear classification accuracy: 1.0\n",
            "Layer 13 total explained variance by top 2 PCA components: 0.2958687693624318\n",
            "Layer 13 linear classification accuracy: 1.0\n",
            "Layer 14 total explained variance by top 2 PCA components: 0.30287271074027056\n",
            "Layer 14 linear classification accuracy: 1.0\n",
            "Layer 15 total explained variance by top 2 PCA components: 0.3225268817871547\n",
            "Layer 15 linear classification accuracy: 1.0\n",
            "Layer 16 total explained variance by top 2 PCA components: 0.3205429433435495\n",
            "Layer 16 linear classification accuracy: 1.0\n",
            "Layer 17 total explained variance by top 2 PCA components: 0.3173776734859425\n",
            "Layer 17 linear classification accuracy: 1.0\n",
            "Layer 18 total explained variance by top 2 PCA components: 0.3260965004745008\n",
            "Layer 18 linear classification accuracy: 1.0\n",
            "Layer 19 total explained variance by top 2 PCA components: 0.3403622906019811\n",
            "Layer 19 linear classification accuracy: 1.0\n",
            "Layer 20 total explained variance by top 2 PCA components: 0.34854230931195807\n",
            "Layer 20 linear classification accuracy: 1.0\n",
            "Layer 21 total explained variance by top 2 PCA components: 0.3621149778010676\n",
            "Layer 21 linear classification accuracy: 1.0\n",
            "Layer 22 total explained variance by top 2 PCA components: 0.3704684098772286\n",
            "Layer 22 linear classification accuracy: 1.0\n",
            "Layer 23 total explained variance by top 2 PCA components: 0.3794451034155417\n",
            "Layer 23 linear classification accuracy: 1.0\n",
            "Layer 24 total explained variance by top 2 PCA components: 0.39429720683556135\n",
            "Layer 24 linear classification accuracy: 1.0\n",
            "Layer 25 total explained variance by top 2 PCA components: 0.40317600457671166\n",
            "Layer 25 linear classification accuracy: 1.0\n",
            "Layer 26 total explained variance by top 2 PCA components: 0.4041081526680923\n",
            "Layer 26 linear classification accuracy: 1.0\n",
            "Layer 27 total explained variance by top 2 PCA components: 0.39603988716585803\n",
            "Layer 27 linear classification accuracy: 1.0\n",
            "Layer 28 total explained variance by top 2 PCA components: 0.3926036086364454\n",
            "Layer 28 linear classification accuracy: 1.0\n",
            "Layer 29 total explained variance by top 2 PCA components: 0.39578388196925446\n",
            "Layer 29 linear classification accuracy: 1.0\n",
            "Layer 30 total explained variance by top 2 PCA components: 0.3885274711832732\n",
            "Layer 30 linear classification accuracy: 1.0\n",
            "Layer 31 total explained variance by top 2 PCA components: 0.38232747667995226\n",
            "Layer 31 linear classification accuracy: 1.0\n"
          ]
        }
      ]
    },
    {
      "cell_type": "code",
      "source": [
        "layer_pca.shape"
      ],
      "metadata": {
        "colab": {
          "base_uri": "https://localhost:8080/"
        },
        "id": "gHh9Nt-ftKH4",
        "outputId": "62ad7ce5-d1ad-404a-ba71-a70e8d0e5b9b"
      },
      "execution_count": null,
      "outputs": [
        {
          "output_type": "execute_result",
          "data": {
            "text/plain": [
              "torch.Size([32, 20, 2])"
            ]
          },
          "metadata": {},
          "execution_count": 12
        }
      ]
    },
    {
      "cell_type": "code",
      "source": [
        "# 2D Scatter plot\n",
        "\n",
        "\n",
        "# Plot\n",
        "layer_of_interest = 15\n",
        "pca_result = layer_pca[layer_of_interest]\n",
        "\n",
        "plt.figure(figsize=(8, 6))\n",
        "persuasion_pca = pca_result[:10, :2]\n",
        "story_pca = pca_result[10:, :2]\n",
        "\n",
        "boundary = layer_clfs[layer_of_interest]\n",
        "\n",
        "plt.scatter(persuasion_pca[:, 0], persuasion_pca[:, 1], color = \"blue\", label = \"persuasion\")\n",
        "plt.scatter(story_pca[:, 0], story_pca[:, 1], color = \"red\", label = \"storytelling\")\n",
        "\n",
        "# plot classification boundary\n",
        "\n",
        "w0, w1 = boundary['weights']\n",
        "b = boundary['bias']\n",
        "x_min, x_max = (pca_result[:, 0].min() - 1, pca_result[:, 0].max() + 1)\n",
        "y_min, y_max = (pca_result[:, 1].min() - 1, pca_result[:, 1].max() + 1)\n",
        "\n",
        "print(\"xmin\", x_min)\n",
        "print(\"xmax\", x_max)\n",
        "# Decision boundary: y = -(w0 * x + b) / w1\n",
        "x_vals = np.linspace(x_min, x_max, 200)\n",
        "y_vals = -(w0 * x_vals + b) / w1\n",
        "\n",
        "# Plot decision boundary\n",
        "plt.plot(x_vals, y_vals, 'k--', label = f'Accuracy: {boundary[\"accuracy\"]:.2f}')\n",
        "\n",
        "# print(\"x_min\", x_min)\n",
        "# print(\"y_max\", y_max)\n",
        "# plt.text(x_min, y_max, f'Acc: {accuracy:.2f}', fontsize=10,\n",
        "#          color='black')\n",
        "\n",
        "plt.title(f\"PCA Projection of Layer {layer_of_interest} Activations (2D)\")\n",
        "plt.xlabel(\"Principal Component 1\")\n",
        "plt.ylabel(\"Principal Component 2\")\n",
        "plt.grid(True)\n",
        "ax = plt.gca()\n",
        "ax.set_ylim([y_min, 20])\n",
        "plt.legend()\n",
        "# plt.tight_layout()\n",
        "plt.show()\n"
      ],
      "metadata": {
        "colab": {
          "base_uri": "https://localhost:8080/",
          "height": 599
        },
        "id": "H9rd76ees-5q",
        "outputId": "1676cc1a-4795-47ef-83ba-9026beea7b3a"
      },
      "execution_count": null,
      "outputs": [
        {
          "output_type": "stream",
          "name": "stdout",
          "text": [
            "xmin tensor(-45.5306, dtype=torch.float64)\n",
            "xmax tensor(35.3608, dtype=torch.float64)\n"
          ]
        },
        {
          "output_type": "display_data",
          "data": {
            "text/plain": [
              "<Figure size 800x600 with 1 Axes>"
            ],
            "image/png": "[encoded data removed]"
          },
          "metadata": {}
        }
      ]
    },
    {
      "cell_type": "code",
      "source": [
        "layers = [i for i in range(1, 32)]\n",
        "accuracy = [boundary[\"accuracy\"] for boundary in layer_clfs][1:]\n",
        "plt.title(\"Accuracy of Classifying Persuasion vs Storytelling from PCA\")\n",
        "plt.xlabel(\"Layer\")\n",
        "plt.ylabel(\"Accuracy\")\n",
        "plt.plot(layers, accuracy)"
      ],
      "metadata": {
        "colab": {
          "base_uri": "https://localhost:8080/",
          "height": 489
        },
        "id": "jYqtHeBqB22d",
        "outputId": "b0120d35-9553-4998-9339-71fe1ae9e776"
      },
      "execution_count": null,
      "outputs": [
        {
          "output_type": "execute_result",
          "data": {
            "text/plain": [
              "[<matplotlib.lines.Line2D at 0x7f4a7332ff90>]"
            ]
          },
          "metadata": {},
          "execution_count": 15
        },
        {
          "output_type": "display_data",
          "data": {
            "text/plain": [
              "<Figure size 640x480 with 1 Axes>"
            ],
            "image/png": "[encoded data removed]"
          },
          "metadata": {}
        }
      ]
    },
    {
      "cell_type": "markdown",
      "source": [
        "code below is old just basic how to do pca + get plots"
      ],
      "metadata": {
        "id": "y2lumVU4tAx7"
      }
    },
    {
      "cell_type": "code",
      "source": [
        "\n",
        "# Perform PCA\n",
        "pca = PCA(n_components=2)\n",
        "pca_result = pca.fit_transform(activation_matrix)\n",
        "\n",
        "# Plot explained variance\n",
        "plt.figure(figsize=(8, 4))\n",
        "plt.plot(np.cumsum(pca.explained_variance_ratio_), marker='o')\n",
        "plt.title(\"Cumulative Explained Variance by PCA Components\")\n",
        "plt.xlabel(\"Number of Components\")\n",
        "plt.ylabel(\"Cumulative Explained Variance\")\n",
        "plt.grid(True)\n",
        "plt.show()\n"
      ],
      "metadata": {
        "id": "hofEDl5YKrTf",
        "colab": {
          "base_uri": "https://localhost:8080/",
          "height": 410
        },
        "outputId": "860c06fa-a206-4ca9-9f73-2caa32b800cb"
      },
      "execution_count": null,
      "outputs": [
        {
          "output_type": "display_data",
          "data": {
            "text/plain": [
              "<Figure size 800x400 with 1 Axes>"
            ],
            "image/png": "[encoded data removed]"
          },
          "metadata": {}
        }
      ]
    },
    {
      "cell_type": "code",
      "source": [
        "pca_result.shape"
      ],
      "metadata": {
        "colab": {
          "base_uri": "https://localhost:8080/"
        },
        "id": "Krd5mR1ZfyJf",
        "outputId": "b7cd1fae-04dd-4e40-a896-170fb150ac58"
      },
      "execution_count": null,
      "outputs": [
        {
          "output_type": "execute_result",
          "data": {
            "text/plain": [
              "(20, 2)"
            ]
          },
          "metadata": {},
          "execution_count": 56
        }
      ]
    },
    {
      "cell_type": "code",
      "source": [
        "persuasion_pca = pca_result[:10, :2]\n",
        "story_pca = pca_result[10:, :2]"
      ],
      "metadata": {
        "id": "EpCN6tB7hrS_"
      },
      "execution_count": null,
      "outputs": []
    },
    {
      "cell_type": "code",
      "source": [
        "persuasion_pca.shape"
      ],
      "metadata": {
        "colab": {
          "base_uri": "https://localhost:8080/"
        },
        "id": "vmtNzLtthsJB",
        "outputId": "74cfc78a-1aeb-429a-9af7-74c35bcfdbde"
      },
      "execution_count": null,
      "outputs": [
        {
          "output_type": "execute_result",
          "data": {
            "text/plain": [
              "(10, 2)"
            ]
          },
          "metadata": {},
          "execution_count": 58
        }
      ]
    },
    {
      "cell_type": "code",
      "source": [
        "# 2D Scatter plot\n",
        "\n",
        "# colors = ['blue' if i < 10 else 'red' for i in range(20)]\n",
        "\n",
        "# Plot\n",
        "plt.figure(figsize=(8, 6))\n",
        "persuasion_pca = pca_result[:10, :2]\n",
        "story_pca = pca_result[10:, :2]\n",
        "\n",
        "plt.scatter(persuasion_pca[:, 0], persuasion_pca[:, 1], color = \"blue\", label = \"persuasion\")\n",
        "plt.scatter(story_pca[:, 0], story_pca[:, 1], color = \"red\", label = \"storytelling\")\n",
        "\n",
        "plt.title(\"PCA Projection of Layer 3 Activations (2D)\")\n",
        "plt.xlabel(\"Principal Component 1\")\n",
        "plt.ylabel(\"Principal Component 2\")\n",
        "plt.grid(True)\n",
        "plt.legend()\n",
        "plt.tight_layout()\n",
        "plt.show()\n"
      ],
      "metadata": {
        "colab": {
          "base_uri": "https://localhost:8080/",
          "height": 607
        },
        "id": "cqSsmWcJfPw1",
        "outputId": "2cdabf90-84db-4ea2-8724-adbdb368c15d"
      },
      "execution_count": null,
      "outputs": [
        {
          "output_type": "display_data",
          "data": {
            "text/plain": [
              "<Figure size 800x600 with 1 Axes>"
            ],
            "image/png": "[encoded data removed]"
          },
          "metadata": {}
        }
      ]
    }
  ]
}