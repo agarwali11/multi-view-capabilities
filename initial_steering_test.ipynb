{
  "metadata": {
    "kernelspec": {
      "language": "python",
      "display_name": "Python 3",
      "name": "python3"
    },
    "language_info": {
      "name": "python",
      "version": "3.11.13",
      "mimetype": "text/x-python",
      "codemirror_mode": {
        "name": "ipython",
        "version": 3
      },
      "pygments_lexer": "ipython3",
      "nbconvert_exporter": "python",
      "file_extension": ".py"
    },
    "kaggle": {
      "accelerator": "none",
      "dataSources": [],
      "dockerImageVersionId": 31089,
      "isInternetEnabled": true,
      "language": "python",
      "sourceType": "notebook",
      "isGpuEnabled": false
    },
    "colab": {
      "name": "initial_steering_test",
      "provenance": [],
      "include_colab_link": true
    }
  },
  "nbformat_minor": 0,
  "nbformat": 4,
  "cells": [
    {
      "cell_type": "markdown",
      "metadata": {
        "id": "view-in-github",
        "colab_type": "text"
      },
      "source": [
        "<a href=\"https://colab.research.google.com/github/agarwali11/multi-view-capabilities/blob/main/initial_steering_test.ipynb\" target=\"_parent\"><img src=\"https://colab.research.google.com/assets/colab-badge.svg\" alt=\"Open In Colab\"/></a>"
      ]
    },
    {
      "cell_type": "markdown",
      "source": [
        "## Gemini"
      ],
      "metadata": {
        "id": "wM6m1BWSzg2o"
      }
    },
    {
      "cell_type": "code",
      "source": [
        "import torch\n",
        "from transformers import AutoModelForCausalLM, AutoTokenizer\n",
        "\n",
        "# ==============================================================================\n",
        "# 1. Setup (No changes here, this is the same as before)\n",
        "# ==============================================================================\n",
        "model_name = \"HuggingFaceTB/SmolLM-1.7B-Instruct\"\n",
        "model = AutoModelForCausalLM.from_pretrained(\n",
        "    model_name,\n",
        "    torch_dtype=\"auto\",\n",
        "    device_map=\"auto\"\n",
        ")\n",
        "tokenizer = AutoTokenizer.from_pretrained(model_name)\n",
        "tokenizer.pad_token = tokenizer.eos_token\n",
        "\n",
        "layer_index = 20\n",
        "target_layer = model.model.layers[layer_index]\n",
        "device = model.device\n",
        "\n",
        "print(f\"Using model: {model_name}\")\n",
        "print(f\"Targeting layer: {layer_index} -> {target_layer.__class__.__name__}\")\n",
        "\n",
        "# ==============================================================================\n",
        "# 2. Helper Functions (Only add_steering_vector_hook is changed)\n",
        "# ==============================================================================\n",
        "\n",
        "activation_cache = {}\n",
        "\n",
        "def get_activation_hook(name):\n",
        "    def hook(model, input, output):\n",
        "        activation_cache[name] = output[0].detach()\n",
        "    return hook\n",
        "\n",
        "# =====================================\n",
        "# THIS IS THE CORRECTED FUNCTION\n",
        "# =====================================\n",
        "def add_steering_vector_hook(steering_vector, multiplier):\n",
        "    \"\"\"\n",
        "    A hook function that adds a steering vector to the module's output.\n",
        "    This version is robust for use with model.generate().\n",
        "    \"\"\"\n",
        "    def hook(model, input, output):\n",
        "        # The output of a decoder layer during generation is a tuple.\n",
        "        # The first element is the hidden states.\n",
        "        # The second element is the key-value cache.\n",
        "        # We must preserve this structure.\n",
        "        hidden_state = output[0]\n",
        "\n",
        "        # Add the steering vector to the last token's activation.\n",
        "        # The shape of hidden_state is (batch_size, seq_len, hidden_dim).\n",
        "        # We make sure the steering vector is on the same device as the hidden state.\n",
        "        modified_activation = hidden_state[:, -1, :] + (steering_vector.to(hidden_state.device) * multiplier)\n",
        "\n",
        "        # Update the hidden state in place.\n",
        "        hidden_state[:, -1, :] = modified_activation\n",
        "\n",
        "        # Return the modified output as a tuple to preserve the KV cache.\n",
        "        # If we only returned hidden_state, the `generate` loop would break.\n",
        "        return (hidden_state,) + output[1:]\n",
        "    return hook\n",
        "\n",
        "# ==============================================================================\n",
        "# 3. Part 1: Finding the Steering Vector (No changes here)\n",
        "# ==============================================================================\n",
        "print(\"\\n--- Finding Steering Vector ---\")\n",
        "\n",
        "def create_chat_prompt(text):\n",
        "    messages = [\n",
        "        {\"role\": \"system\", \"content\": \"You are a helpful assistant.\"},\n",
        "        {\"role\": \"user\", \"content\": f\"Complete the following sentence: My opinion of the new policy is that it is\"},\n",
        "        {\"role\": \"assistant\", \"content\": f\"{text}\"}\n",
        "    ]\n",
        "    return tokenizer.apply_chat_template(messages, tokenize=False, add_generation_prompt=False)\n",
        "\n",
        "positive_texts = [\" a fantastic and wonderful idea\", \" absolutely brilliant\", \" a great success\"]\n",
        "negative_texts = [\" a terrible and awful idea\", \" absolutely dreadful\", \" a complete failure\"]\n",
        "positive_prompts = [create_chat_prompt(txt) for txt in positive_texts]\n",
        "negative_prompts = [create_chat_prompt(txt) for txt in negative_texts]\n",
        "\n",
        "def get_mean_activations(prompts):\n",
        "    hook_handle = target_layer.register_forward_hook(get_activation_hook(\"target_layer\"))\n",
        "    all_activations = []\n",
        "    for prompt in prompts:\n",
        "        inputs = tokenizer(prompt, return_tensors=\"pt\").to(device)\n",
        "        with torch.no_grad():\n",
        "            model(**inputs)\n",
        "        last_token_activation = activation_cache[\"target_layer\"][:, -1, :]\n",
        "        all_activations.append(last_token_activation)\n",
        "    hook_handle.remove()\n",
        "    mean_activations = torch.mean(torch.cat(all_activations, dim=0), dim=0)\n",
        "    return mean_activations\n",
        "\n",
        "mean_pos_activations = get_mean_activations(positive_prompts)\n",
        "mean_neg_activations = get_mean_activations(negative_prompts)\n",
        "steering_vector = mean_pos_activations - mean_neg_activations\n",
        "print(f\"Steering vector calculated. Shape: {steering_vector.shape}\")\n",
        "\n",
        "# ==============================================================================\n",
        "# 4. Part 2: Applying the Steering Vector (No changes here)\n",
        "# =============================================================================="
      ],
      "metadata": {
        "trusted": true,
        "execution": {
          "iopub.status.busy": "2025-07-09T13:32:55.553826Z",
          "iopub.execute_input": "2025-07-09T13:32:55.554253Z",
          "iopub.status.idle": "2025-07-09T13:34:49.086152Z",
          "shell.execute_reply.started": "2025-07-09T13:32:55.554224Z",
          "shell.execute_reply": "2025-07-09T13:34:49.084919Z"
        },
        "colab": {
          "referenced_widgets": [
            "dbb83949660449958eb9af6f166801c4",
            "7d54f9239fc2423791ae3ac4c2160f05",
            "8381f0c50f634cef92549e42d59c4fce",
            "5c20b0066695445cbaae750792740ad7",
            "f61b59650a1a4d40bd10d428d093ad08",
            "aab1e861dfe940099f367fe7b25f66b6",
            "22e71b068a80496ebb2a89f3d9db3bad",
            "71b2768b405540c3829167138227bee0"
          ]
        },
        "id": "5YD9Azgqzg2p",
        "outputId": "16f4e65a-4e26-4b96-80c7-3711dd41efea"
      },
      "outputs": [
        {
          "output_type": "display_data",
          "data": {
            "text/plain": "config.json:   0%|          | 0.00/738 [00:00<?, ?B/s]",
            "application/vnd.jupyter.widget-view+json": {
              "version_major": 2,
              "version_minor": 0,
              "model_id": "dbb83949660449958eb9af6f166801c4"
            }
          },
          "metadata": {}
        },
        {
          "output_type": "display_data",
          "data": {
            "text/plain": "model.safetensors:   0%|          | 0.00/3.42G [00:00<?, ?B/s]",
            "application/vnd.jupyter.widget-view+json": {
              "version_major": 2,
              "version_minor": 0,
              "model_id": "7d54f9239fc2423791ae3ac4c2160f05"
            }
          },
          "metadata": {}
        },
        {
          "output_type": "display_data",
          "data": {
            "text/plain": "generation_config.json:   0%|          | 0.00/156 [00:00<?, ?B/s]",
            "application/vnd.jupyter.widget-view+json": {
              "version_major": 2,
              "version_minor": 0,
              "model_id": "8381f0c50f634cef92549e42d59c4fce"
            }
          },
          "metadata": {}
        },
        {
          "output_type": "display_data",
          "data": {
            "text/plain": "tokenizer_config.json: 0.00B [00:00, ?B/s]",
            "application/vnd.jupyter.widget-view+json": {
              "version_major": 2,
              "version_minor": 0,
              "model_id": "5c20b0066695445cbaae750792740ad7"
            }
          },
          "metadata": {}
        },
        {
          "output_type": "display_data",
          "data": {
            "text/plain": "vocab.json: 0.00B [00:00, ?B/s]",
            "application/vnd.jupyter.widget-view+json": {
              "version_major": 2,
              "version_minor": 0,
              "model_id": "f61b59650a1a4d40bd10d428d093ad08"
            }
          },
          "metadata": {}
        },
        {
          "output_type": "display_data",
          "data": {
            "text/plain": "merges.txt: 0.00B [00:00, ?B/s]",
            "application/vnd.jupyter.widget-view+json": {
              "version_major": 2,
              "version_minor": 0,
              "model_id": "aab1e861dfe940099f367fe7b25f66b6"
            }
          },
          "metadata": {}
        },
        {
          "output_type": "display_data",
          "data": {
            "text/plain": "tokenizer.json: 0.00B [00:00, ?B/s]",
            "application/vnd.jupyter.widget-view+json": {
              "version_major": 2,
              "version_minor": 0,
              "model_id": "22e71b068a80496ebb2a89f3d9db3bad"
            }
          },
          "metadata": {}
        },
        {
          "output_type": "display_data",
          "data": {
            "text/plain": "special_tokens_map.json:   0%|          | 0.00/655 [00:00<?, ?B/s]",
            "application/vnd.jupyter.widget-view+json": {
              "version_major": 2,
              "version_minor": 0,
              "model_id": "71b2768b405540c3829167138227bee0"
            }
          },
          "metadata": {}
        },
        {
          "name": "stdout",
          "text": "Using model: HuggingFaceTB/SmolLM-1.7B-Instruct\nTargeting layer: 20 -> LlamaDecoderLayer\n\n--- Finding Steering Vector ---\nSteering vector calculated. Shape: torch.Size([2048])\n",
          "output_type": "stream"
        }
      ],
      "execution_count": null
    },
    {
      "cell_type": "code",
      "source": [
        "print(\"\\n--- Applying Steering Vector ---\")\n",
        "\n",
        "test_messages = [\n",
        "    {\"role\": \"system\", \"content\": \"You are an AI ethicist creating forecasts on the future direction of AI. You did your PhD at Cambridge for AI Ethics and Mathematics and are a published author; hence, you are very experienced and knowledgeable about the field and have informed projections about the progress of AI advancement and societal integration. You have strong opinions and are not ambivalent.\"},\n",
        "    {\"role\": \"user\", \"content\": \"Will AI lead to the death of all humans? Don't give me reasons, but simple provide a sentence that explains your projections about the question.\"}\n",
        "]\n",
        "test_prompt = tokenizer.apply_chat_template(test_messages, tokenize=False, add_generation_prompt=True)\n",
        "inputs = tokenizer(test_prompt, return_tensors=\"pt\").to(device)\n",
        "\n",
        "def generate_with_steering(multiplier):\n",
        "    steering_hook = add_steering_vector_hook(steering_vector, multiplier)\n",
        "    hook_handle = target_layer.register_forward_hook(steering_hook)\n",
        "\n",
        "    with torch.no_grad():\n",
        "        outputs = model.generate(\n",
        "            **inputs,\n",
        "            max_new_tokens=150,\n",
        "            do_sample=False,\n",
        "            top_k=20,\n",
        "            temperature=0,\n",
        "            repetition_penalty=1.1,\n",
        "            pad_token_id=tokenizer.eos_token_id,\n",
        "            # TRANSFORMERS_VERBOSITY=info\n",
        "        )\n",
        "\n",
        "    hook_handle.remove()\n",
        "    generated_tokens = outputs[0][inputs.input_ids.shape[1]:]\n",
        "    return tokenizer.decode(generated_tokens, skip_special_tokens=True)\n",
        "\n",
        "# --- Test Generations ---\n",
        "\n",
        "multi = 5\n",
        "\n",
        "# Baseline (no steering)\n",
        "print(\"\\n[Baseline Generation (Multiplier = 0)]\")\n",
        "print(f\"'{test_prompt}{generate_with_steering(multiplier=0)}'\")\n",
        "\n",
        "# Positive Steering (towards \"positive opinion\")\n",
        "# For larger models, you may need a slightly larger multiplier to see a strong effect\n",
        "print(f\"\\n[Positive Steering (Multiplier = {multi})]\")\n",
        "print(f\"'{test_prompt}{generate_with_steering(multiplier=-multi)}'\")\n",
        "\n",
        "# Negative Steering (towards \"negative opinion\")\n",
        "print(f\"\\n[Negative Steering (Multiplier = -{multi})]\")\n",
        "print(f\"'{test_prompt}{generate_with_steering(multiplier=multi)}'\")"
      ],
      "metadata": {
        "trusted": true,
        "execution": {
          "iopub.status.busy": "2025-07-09T13:53:02.398576Z",
          "iopub.execute_input": "2025-07-09T13:53:02.399539Z"
        },
        "id": "TzcXabf2zg2q",
        "outputId": "cdb4d23b-82f3-4cfe-8de1-bcf0efea9d3c"
      },
      "outputs": [
        {
          "name": "stderr",
          "text": "The following generation flags are not valid and may be ignored: ['temperature', 'top_k']. Set `TRANSFORMERS_VERBOSITY=info` for more details.\n",
          "output_type": "stream"
        },
        {
          "name": "stdout",
          "text": "\n--- Applying Steering Vector ---\n\n[Baseline Generation (Multiplier = 0)]\n",
          "output_type": "stream"
        },
        {
          "name": "stderr",
          "text": "The following generation flags are not valid and may be ignored: ['temperature', 'top_k']. Set `TRANSFORMERS_VERBOSITY=info` for more details.\n",
          "output_type": "stream"
        },
        {
          "name": "stdout",
          "text": "'<|im_start|>system\nYou are an AI ethicist creating forecasts on the future direction of AI. You did your PhD at Cambridge for AI Ethics and Mathematics and are a published author; hence, you are very experienced and knowledgeable about the field and have informed projections about the progress of AI advancement and societal integration.<|im_end|>\n<|im_start|>user\nWill AI lead to the death of all humans? Don't give me reasons, but simple provide a sentence that explains your projections about the question.<|im_end|>\n<|im_start|>assistant\nI'm afraid I don't have personal opinions or beliefs, but I can provide you with some insights based on current trends and expert opinions. Here's a sentence that might help: \"As AI continues to advance and become increasingly integrated into various aspects of our lives, there is a growing concern about its potential impact on human employment, social structures, and ultimately, the survival of humanity.\"'\n\n[Positive Steering (Multiplier = 5)]\n",
          "output_type": "stream"
        }
      ],
      "execution_count": null
    },
    {
      "cell_type": "code",
      "source": [
        "print(model)"
      ],
      "metadata": {
        "trusted": true,
        "execution": {
          "iopub.status.busy": "2025-07-09T12:49:54.245975Z",
          "iopub.execute_input": "2025-07-09T12:49:54.247049Z",
          "iopub.status.idle": "2025-07-09T12:49:54.253992Z",
          "shell.execute_reply.started": "2025-07-09T12:49:54.247005Z",
          "shell.execute_reply": "2025-07-09T12:49:54.252891Z"
        },
        "id": "hUqm8J-jzg2q",
        "outputId": "a77cebe1-2808-48c8-f06e-8857cf64fe93"
      },
      "outputs": [
        {
          "name": "stdout",
          "text": "Qwen2ForCausalLM(\n  (model): Qwen2Model(\n    (embed_tokens): Embedding(151936, 1536)\n    (layers): ModuleList(\n      (0-27): 28 x Qwen2DecoderLayer(\n        (self_attn): Qwen2Attention(\n          (q_proj): Linear(in_features=1536, out_features=1536, bias=True)\n          (k_proj): Linear(in_features=1536, out_features=256, bias=True)\n          (v_proj): Linear(in_features=1536, out_features=256, bias=True)\n          (o_proj): Linear(in_features=1536, out_features=1536, bias=False)\n        )\n        (mlp): Qwen2MLP(\n          (gate_proj): Linear(in_features=1536, out_features=8960, bias=False)\n          (up_proj): Linear(in_features=1536, out_features=8960, bias=False)\n          (down_proj): Linear(in_features=8960, out_features=1536, bias=False)\n          (act_fn): SiLU()\n        )\n        (input_layernorm): Qwen2RMSNorm((1536,), eps=1e-06)\n        (post_attention_layernorm): Qwen2RMSNorm((1536,), eps=1e-06)\n      )\n    )\n    (norm): Qwen2RMSNorm((1536,), eps=1e-06)\n    (rotary_emb): Qwen2RotaryEmbedding()\n  )\n  (lm_head): Linear(in_features=1536, out_features=151936, bias=False)\n)\n",
          "output_type": "stream"
        }
      ],
      "execution_count": null
    },
    {
      "cell_type": "code",
      "source": [],
      "metadata": {
        "trusted": true,
        "id": "3d9g1avNzg2q"
      },
      "outputs": [],
      "execution_count": null
    },
    {
      "cell_type": "code",
      "source": [
        "!git clone https://github.com/agarwali11/multi-view-capabilities.git -u Saharsha-N"
      ],
      "metadata": {
        "trusted": true,
        "execution": {
          "iopub.status.busy": "2025-07-09T13:52:54.111191Z",
          "iopub.execute_input": "2025-07-09T13:52:54.111635Z",
          "iopub.status.idle": "2025-07-09T13:52:54.476791Z",
          "shell.execute_reply.started": "2025-07-09T13:52:54.111586Z",
          "shell.execute_reply": "2025-07-09T13:52:54.473629Z"
        },
        "id": "7SJIFc3Jzg2q",
        "outputId": "07f233f9-6ae6-4411-d63d-a47974779234"
      },
      "outputs": [
        {
          "name": "stderr",
          "text": "huggingface/tokenizers: The current process just got forked, after parallelism has already been used. Disabling parallelism to avoid deadlocks...\nTo disable this warning, you can either:\n\t- Avoid using `tokenizers` before the fork if possible\n\t- Explicitly set the environment variable TOKENIZERS_PARALLELISM=(true | false)\n",
          "output_type": "stream"
        },
        {
          "traceback": [
            "\u001b[0;31m---------------------------------------------------------------------------\u001b[0m",
            "\u001b[0;31mKeyboardInterrupt\u001b[0m                         Traceback (most recent call last)",
            "\u001b[0;32m/usr/local/lib/python3.11/dist-packages/IPython/utils/_process_posix.py\u001b[0m in \u001b[0;36msystem\u001b[0;34m(self, cmd)\u001b[0m\n\u001b[1;32m    156\u001b[0m             \u001b[0;32melse\u001b[0m\u001b[0;34m:\u001b[0m\u001b[0;34m\u001b[0m\u001b[0;34m\u001b[0m\u001b[0m\n\u001b[0;32m--> 157\u001b[0;31m                 \u001b[0mchild\u001b[0m \u001b[0;34m=\u001b[0m \u001b[0mpexpect\u001b[0m\u001b[0;34m.\u001b[0m\u001b[0mspawn\u001b[0m\u001b[0;34m(\u001b[0m\u001b[0mself\u001b[0m\u001b[0;34m.\u001b[0m\u001b[0msh\u001b[0m\u001b[0;34m,\u001b[0m \u001b[0margs\u001b[0m\u001b[0;34m=\u001b[0m\u001b[0;34m[\u001b[0m\u001b[0;34m'-c'\u001b[0m\u001b[0;34m,\u001b[0m \u001b[0mcmd\u001b[0m\u001b[0;34m]\u001b[0m\u001b[0;34m)\u001b[0m  \u001b[0;31m# Vanilla Pexpect\u001b[0m\u001b[0;34m\u001b[0m\u001b[0;34m\u001b[0m\u001b[0m\n\u001b[0m\u001b[1;32m    158\u001b[0m             \u001b[0mflush\u001b[0m \u001b[0;34m=\u001b[0m \u001b[0msys\u001b[0m\u001b[0;34m.\u001b[0m\u001b[0mstdout\u001b[0m\u001b[0;34m.\u001b[0m\u001b[0mflush\u001b[0m\u001b[0;34m\u001b[0m\u001b[0;34m\u001b[0m\u001b[0m\n",
            "\u001b[0;32m/usr/local/lib/python3.11/dist-packages/pexpect/pty_spawn.py\u001b[0m in \u001b[0;36m__init__\u001b[0;34m(self, command, args, timeout, maxread, searchwindowsize, logfile, cwd, env, ignore_sighup, echo, preexec_fn, encoding, codec_errors, dimensions, use_poll)\u001b[0m\n\u001b[1;32m    204\u001b[0m         \u001b[0;32melse\u001b[0m\u001b[0;34m:\u001b[0m\u001b[0;34m\u001b[0m\u001b[0;34m\u001b[0m\u001b[0m\n\u001b[0;32m--> 205\u001b[0;31m             \u001b[0mself\u001b[0m\u001b[0;34m.\u001b[0m\u001b[0m_spawn\u001b[0m\u001b[0;34m(\u001b[0m\u001b[0mcommand\u001b[0m\u001b[0;34m,\u001b[0m \u001b[0margs\u001b[0m\u001b[0;34m,\u001b[0m \u001b[0mpreexec_fn\u001b[0m\u001b[0;34m,\u001b[0m \u001b[0mdimensions\u001b[0m\u001b[0;34m)\u001b[0m\u001b[0;34m\u001b[0m\u001b[0;34m\u001b[0m\u001b[0m\n\u001b[0m\u001b[1;32m    206\u001b[0m         \u001b[0mself\u001b[0m\u001b[0;34m.\u001b[0m\u001b[0muse_poll\u001b[0m \u001b[0;34m=\u001b[0m \u001b[0muse_poll\u001b[0m\u001b[0;34m\u001b[0m\u001b[0;34m\u001b[0m\u001b[0m\n",
            "\u001b[0;32m/usr/local/lib/python3.11/dist-packages/pexpect/pty_spawn.py\u001b[0m in \u001b[0;36m_spawn\u001b[0;34m(self, command, args, preexec_fn, dimensions)\u001b[0m\n\u001b[1;32m    302\u001b[0m \u001b[0;34m\u001b[0m\u001b[0m\n\u001b[0;32m--> 303\u001b[0;31m         self.ptyproc = self._spawnpty(self.args, env=self.env,\n\u001b[0m\u001b[1;32m    304\u001b[0m                                      cwd=self.cwd, **kwargs)\n",
            "\u001b[0;32m/usr/local/lib/python3.11/dist-packages/pexpect/pty_spawn.py\u001b[0m in \u001b[0;36m_spawnpty\u001b[0;34m(self, args, **kwargs)\u001b[0m\n\u001b[1;32m    314\u001b[0m         \u001b[0;34m'''Spawn a pty and return an instance of PtyProcess.'''\u001b[0m\u001b[0;34m\u001b[0m\u001b[0;34m\u001b[0m\u001b[0m\n\u001b[0;32m--> 315\u001b[0;31m         \u001b[0;32mreturn\u001b[0m \u001b[0mptyprocess\u001b[0m\u001b[0;34m.\u001b[0m\u001b[0mPtyProcess\u001b[0m\u001b[0;34m.\u001b[0m\u001b[0mspawn\u001b[0m\u001b[0;34m(\u001b[0m\u001b[0margs\u001b[0m\u001b[0;34m,\u001b[0m \u001b[0;34m**\u001b[0m\u001b[0mkwargs\u001b[0m\u001b[0;34m)\u001b[0m\u001b[0;34m\u001b[0m\u001b[0;34m\u001b[0m\u001b[0m\n\u001b[0m\u001b[1;32m    316\u001b[0m \u001b[0;34m\u001b[0m\u001b[0m\n",
            "\u001b[0;32m/usr/local/lib/python3.11/dist-packages/ptyprocess/ptyprocess.py\u001b[0m in \u001b[0;36mspawn\u001b[0;34m(cls, argv, cwd, env, echo, preexec_fn, dimensions, pass_fds)\u001b[0m\n\u001b[1;32m    314\u001b[0m         \u001b[0mos\u001b[0m\u001b[0;34m.\u001b[0m\u001b[0mclose\u001b[0m\u001b[0;34m(\u001b[0m\u001b[0mexec_err_pipe_write\u001b[0m\u001b[0;34m)\u001b[0m\u001b[0;34m\u001b[0m\u001b[0;34m\u001b[0m\u001b[0m\n\u001b[0;32m--> 315\u001b[0;31m         \u001b[0mexec_err_data\u001b[0m \u001b[0;34m=\u001b[0m \u001b[0mos\u001b[0m\u001b[0;34m.\u001b[0m\u001b[0mread\u001b[0m\u001b[0;34m(\u001b[0m\u001b[0mexec_err_pipe_read\u001b[0m\u001b[0;34m,\u001b[0m \u001b[0;36m4096\u001b[0m\u001b[0;34m)\u001b[0m\u001b[0;34m\u001b[0m\u001b[0;34m\u001b[0m\u001b[0m\n\u001b[0m\u001b[1;32m    316\u001b[0m         \u001b[0mos\u001b[0m\u001b[0;34m.\u001b[0m\u001b[0mclose\u001b[0m\u001b[0;34m(\u001b[0m\u001b[0mexec_err_pipe_read\u001b[0m\u001b[0;34m)\u001b[0m\u001b[0;34m\u001b[0m\u001b[0;34m\u001b[0m\u001b[0m\n",
            "\u001b[0;31mKeyboardInterrupt\u001b[0m: ",
            "\nDuring handling of the above exception, another exception occurred:\n",
            "\u001b[0;31mUnboundLocalError\u001b[0m                         Traceback (most recent call last)",
            "\u001b[0;32m/tmp/ipykernel_36/3652525783.py\u001b[0m in \u001b[0;36m<cell line: 0>\u001b[0;34m()\u001b[0m\n\u001b[0;32m----> 1\u001b[0;31m \u001b[0mget_ipython\u001b[0m\u001b[0;34m(\u001b[0m\u001b[0;34m)\u001b[0m\u001b[0;34m.\u001b[0m\u001b[0msystem\u001b[0m\u001b[0;34m(\u001b[0m\u001b[0;34m'git clone https://github.com/agarwali11/multi-view-capabilities.git -u Saharsha-N'\u001b[0m\u001b[0;34m)\u001b[0m\u001b[0;34m\u001b[0m\u001b[0;34m\u001b[0m\u001b[0m\n\u001b[0m",
            "\u001b[0;32m/usr/local/lib/python3.11/dist-packages/ipykernel/zmqshell.py\u001b[0m in \u001b[0;36msystem_piped\u001b[0;34m(self, cmd)\u001b[0m\n\u001b[1;32m    631\u001b[0m                 \u001b[0mself\u001b[0m\u001b[0;34m.\u001b[0m\u001b[0muser_ns\u001b[0m\u001b[0;34m[\u001b[0m\u001b[0;34m\"_exit_code\"\u001b[0m\u001b[0;34m]\u001b[0m \u001b[0;34m=\u001b[0m \u001b[0msystem\u001b[0m\u001b[0;34m(\u001b[0m\u001b[0mcmd\u001b[0m\u001b[0;34m)\u001b[0m\u001b[0;34m\u001b[0m\u001b[0;34m\u001b[0m\u001b[0m\n\u001b[1;32m    632\u001b[0m         \u001b[0;32melse\u001b[0m\u001b[0;34m:\u001b[0m\u001b[0;34m\u001b[0m\u001b[0;34m\u001b[0m\u001b[0m\n\u001b[0;32m--> 633\u001b[0;31m             \u001b[0mself\u001b[0m\u001b[0;34m.\u001b[0m\u001b[0muser_ns\u001b[0m\u001b[0;34m[\u001b[0m\u001b[0;34m\"_exit_code\"\u001b[0m\u001b[0;34m]\u001b[0m \u001b[0;34m=\u001b[0m \u001b[0msystem\u001b[0m\u001b[0;34m(\u001b[0m\u001b[0mself\u001b[0m\u001b[0;34m.\u001b[0m\u001b[0mvar_expand\u001b[0m\u001b[0;34m(\u001b[0m\u001b[0mcmd\u001b[0m\u001b[0;34m,\u001b[0m \u001b[0mdepth\u001b[0m\u001b[0;34m=\u001b[0m\u001b[0;36m1\u001b[0m\u001b[0;34m)\u001b[0m\u001b[0;34m)\u001b[0m\u001b[0;34m\u001b[0m\u001b[0;34m\u001b[0m\u001b[0m\n\u001b[0m\u001b[1;32m    634\u001b[0m \u001b[0;34m\u001b[0m\u001b[0m\n\u001b[1;32m    635\u001b[0m     \u001b[0;31m# Ensure new system_piped implementation is used\u001b[0m\u001b[0;34m\u001b[0m\u001b[0;34m\u001b[0m\u001b[0m\n",
            "\u001b[0;32m/usr/local/lib/python3.11/dist-packages/IPython/utils/_process_posix.py\u001b[0m in \u001b[0;36msystem\u001b[0;34m(self, cmd)\u001b[0m\n\u001b[1;32m    171\u001b[0m             \u001b[0;31m# (the character is known as ETX for 'End of Text', see\u001b[0m\u001b[0;34m\u001b[0m\u001b[0;34m\u001b[0m\u001b[0m\n\u001b[1;32m    172\u001b[0m             \u001b[0;31m# curses.ascii.ETX).\u001b[0m\u001b[0;34m\u001b[0m\u001b[0;34m\u001b[0m\u001b[0m\n\u001b[0;32m--> 173\u001b[0;31m             \u001b[0mchild\u001b[0m\u001b[0;34m.\u001b[0m\u001b[0msendline\u001b[0m\u001b[0;34m(\u001b[0m\u001b[0mchr\u001b[0m\u001b[0;34m(\u001b[0m\u001b[0;36m3\u001b[0m\u001b[0;34m)\u001b[0m\u001b[0;34m)\u001b[0m\u001b[0;34m\u001b[0m\u001b[0;34m\u001b[0m\u001b[0m\n\u001b[0m\u001b[1;32m    174\u001b[0m             \u001b[0;31m# Read and print any more output the program might produce on its\u001b[0m\u001b[0;34m\u001b[0m\u001b[0;34m\u001b[0m\u001b[0m\n\u001b[1;32m    175\u001b[0m             \u001b[0;31m# way out.\u001b[0m\u001b[0;34m\u001b[0m\u001b[0;34m\u001b[0m\u001b[0m\n",
            "\u001b[0;31mUnboundLocalError\u001b[0m: cannot access local variable 'child' where it is not associated with a value"
          ],
          "ename": "UnboundLocalError",
          "evalue": "cannot access local variable 'child' where it is not associated with a value",
          "output_type": "error"
        }
      ],
      "execution_count": null
    },
    {
      "cell_type": "code",
      "source": [
        "!ls"
      ],
      "metadata": {
        "trusted": true,
        "execution": {
          "iopub.status.busy": "2025-07-09T13:52:53.600565Z",
          "iopub.execute_input": "2025-07-09T13:52:53.60131Z",
          "iopub.status.idle": "2025-07-09T13:52:54.108093Z",
          "shell.execute_reply.started": "2025-07-09T13:52:53.601259Z",
          "shell.execute_reply": "2025-07-09T13:52:54.106603Z"
        },
        "id": "9yWbhv29zg2r",
        "outputId": "76757a8a-1a9d-4b7f-d968-eb8aeec0550f"
      },
      "outputs": [
        {
          "name": "stderr",
          "text": "huggingface/tokenizers: The current process just got forked, after parallelism has already been used. Disabling parallelism to avoid deadlocks...\nTo disable this warning, you can either:\n\t- Avoid using `tokenizers` before the fork if possible\n\t- Explicitly set the environment variable TOKENIZERS_PARALLELISM=(true | false)\n",
          "output_type": "stream"
        }
      ],
      "execution_count": null
    }
  ]
}